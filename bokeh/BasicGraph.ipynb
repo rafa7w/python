{
 "cells": [
  {
   "cell_type": "markdown",
   "id": "5f587e39",
   "metadata": {},
   "source": [
    "#### Making a basic Bokeh line graph"
   ]
  },
  {
   "cell_type": "code",
   "execution_count": 1,
   "id": "89c1f43f",
   "metadata": {},
   "outputs": [],
   "source": [
    "from bokeh.plotting import figure\n",
    "from bokeh.io import output_file, show"
   ]
  },
  {
   "cell_type": "code",
   "execution_count": 2,
   "id": "2e2a2953",
   "metadata": {},
   "outputs": [],
   "source": [
    "x=[1,2,3,4,5]\n",
    "y=[6,7,8,9,10]\n",
    "\n",
    "output_file('Line.html')\n",
    "f=figure()\n",
    "\n",
    "f.line(x,y)\n",
    "show(f)"
   ]
  },
  {
   "cell_type": "markdown",
   "id": "fd1ed885",
   "metadata": {},
   "source": [
    "#### Triangle"
   ]
  },
  {
   "cell_type": "code",
   "execution_count": 3,
   "id": "e611b7a2",
   "metadata": {},
   "outputs": [],
   "source": [
    "x=[3,7.5,10]\n",
    "y=[3,6,9]\n",
    " \n",
    "output_file(\"Triangle.html\")\n",
    "f=figure()\n",
    " \n",
    "f.triangle(x,y)\n",
    "show(f)"
   ]
  },
  {
   "cell_type": "markdown",
   "id": "c9eb3424",
   "metadata": {},
   "source": [
    "#### Circle"
   ]
  },
  {
   "cell_type": "code",
   "execution_count": null,
   "id": "df8bdb74",
   "metadata": {},
   "outputs": [],
   "source": [
    "x=[3,7.5,10]\n",
    "y=[3,6,9]\n",
    " \n",
    "output_file(\"Circle.html\")\n",
    "f=figure()\n",
    " \n",
    "f.circle(x,y)\n",
    "show(f)"
   ]
  },
  {
   "cell_type": "markdown",
   "id": "1107573b",
   "metadata": {},
   "source": [
    "#### Bechalors file"
   ]
  },
  {
   "cell_type": "code",
   "execution_count": 6,
   "id": "63d2f718",
   "metadata": {},
   "outputs": [],
   "source": [
    "import pandas as pd"
   ]
  },
  {
   "cell_type": "code",
   "execution_count": 18,
   "id": "d8734c64",
   "metadata": {},
   "outputs": [],
   "source": [
    "df=pd.read_csv('files/bachelors.csv')\n",
    "x=df['Year']\n",
    "y=df['Engineering']\n",
    "\n",
    "output_file('Bachelors.html')\n",
    "f=figure()\n",
    "\n",
    "f.line(x,y)\n",
    "show(f)"
   ]
  },
  {
   "cell_type": "markdown",
   "id": "b7a69c7e",
   "metadata": {},
   "source": [
    "#### Below is a summary of properties which can be added to change the style of the plot:"
   ]
  },
  {
   "cell_type": "code",
   "execution_count": 22,
   "id": "72c001cd",
   "metadata": {},
   "outputs": [],
   "source": [
    "import pandas\n",
    "from bokeh.plotting import figure, output_file, show\n",
    " \n",
    "p=figure(plot_width=500,plot_height=400, tools='pan')\n",
    " \n",
    "p.title.text=\"Cool Data\"\n",
    "p.title.text_color=\"Gray\"\n",
    "p.title.text_font=\"times\"\n",
    "p.title.text_font_style=\"bold\"\n",
    "p.xaxis.minor_tick_line_color=None\n",
    "p.yaxis.minor_tick_line_color=None\n",
    "p.xaxis.axis_label=\"Date\"\n",
    "p.yaxis.axis_label=\"Intensity\"    \n",
    " \n",
    "p.line([1,2,3],[4,5,6])\n",
    "output_file(\"raph.html\")\n",
    "show(p)"
   ]
  },
  {
   "cell_type": "code",
   "execution_count": null,
   "id": "5a4aae83",
   "metadata": {},
   "outputs": [],
   "source": []
  }
 ],
 "metadata": {
  "kernelspec": {
   "display_name": "Python 3 (ipykernel)",
   "language": "python",
   "name": "python3"
  },
  "language_info": {
   "codemirror_mode": {
    "name": "ipython",
    "version": 3
   },
   "file_extension": ".py",
   "mimetype": "text/x-python",
   "name": "python",
   "nbconvert_exporter": "python",
   "pygments_lexer": "ipython3",
   "version": "3.10.2"
  }
 },
 "nbformat": 4,
 "nbformat_minor": 5
}
