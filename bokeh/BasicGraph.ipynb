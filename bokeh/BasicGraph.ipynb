{
 "cells": [
  {
   "cell_type": "markdown",
   "id": "29e9925c",
   "metadata": {},
   "source": [
    "#### Making a basic Bokeh line graph"
   ]
  },
  {
   "cell_type": "code",
   "execution_count": 1,
   "id": "d0f1cc79",
   "metadata": {},
   "outputs": [],
   "source": [
    "from bokeh.plotting import figure\n",
    "from bokeh.io import output_file, show"
   ]
  },
  {
   "cell_type": "code",
   "execution_count": 2,
   "id": "3e438e34",
   "metadata": {},
   "outputs": [],
   "source": [
    "x=[1,2,3,4,5]\n",
    "y=[6,7,8,9,10]\n",
    "\n",
    "output_file('Line.html')\n",
    "f=figure()\n",
    "\n",
    "f.line(x,y)\n",
    "show(f)"
   ]
  },
  {
   "cell_type": "markdown",
   "id": "634273db",
   "metadata": {},
   "source": [
    "#### Triangle"
   ]
  },
  {
   "cell_type": "code",
   "execution_count": 3,
   "id": "86b5510c",
   "metadata": {},
   "outputs": [],
   "source": [
    "x=[3,7.5,10]\n",
    "y=[3,6,9]\n",
    " \n",
    "output_file(\"Triangle.html\")\n",
    "f=figure()\n",
    " \n",
    "f.triangle(x,y)\n",
    "show(f)"
   ]
  },
  {
   "cell_type": "markdown",
   "id": "18a39c37",
   "metadata": {},
   "source": [
    "#### Circle"
   ]
  },
  {
   "cell_type": "code",
   "execution_count": null,
   "id": "f420804b",
   "metadata": {},
   "outputs": [],
   "source": [
    "x=[3,7.5,10]\n",
    "y=[3,6,9]\n",
    " \n",
    "output_file(\"Circle.html\")\n",
    "f=figure()\n",
    " \n",
    "f.circle(x,y)\n",
    "show(f)"
   ]
  },
  {
   "cell_type": "markdown",
   "id": "4846681a",
   "metadata": {},
   "source": [
    "#### Bechalors file"
   ]
  },
  {
   "cell_type": "code",
   "execution_count": 6,
   "id": "433ae700",
   "metadata": {},
   "outputs": [],
   "source": [
    "import pandas as pd"
   ]
  },
  {
   "cell_type": "code",
   "execution_count": 18,
   "id": "09b8c565",
   "metadata": {},
   "outputs": [],
   "source": [
    "df=pd.read_csv('files/bachelors.csv')\n",
    "x=df['Year']\n",
    "y=df['Engineering']\n",
    "\n",
    "output_file('Bachelors.html')\n",
    "f=figure()\n",
    "\n",
    "f.line(x,y)\n",
    "show(f)"
   ]
  },
  {
   "cell_type": "code",
   "execution_count": null,
   "id": "b60b8b95",
   "metadata": {},
   "outputs": [],
   "source": []
  }
 ],
 "metadata": {
  "kernelspec": {
   "display_name": "Python 3 (ipykernel)",
   "language": "python",
   "name": "python3"
  },
  "language_info": {
   "codemirror_mode": {
    "name": "ipython",
    "version": 3
   },
   "file_extension": ".py",
   "mimetype": "text/x-python",
   "name": "python",
   "nbconvert_exporter": "python",
   "pygments_lexer": "ipython3",
   "version": "3.10.2"
  }
 },
 "nbformat": 4,
 "nbformat_minor": 5
}
