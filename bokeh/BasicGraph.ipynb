{
 "cells": [
  {
   "cell_type": "markdown",
   "id": "e9b23053",
   "metadata": {},
   "source": [
    "#### Making a basic Bokeh line graph"
   ]
  },
  {
   "cell_type": "code",
   "execution_count": 1,
   "id": "d1466e01",
   "metadata": {},
   "outputs": [],
   "source": [
    "from bokeh.plotting import figure\n",
    "from bokeh.io import output_file, show"
   ]
  },
  {
   "cell_type": "code",
   "execution_count": 2,
   "id": "ebac00e0",
   "metadata": {},
   "outputs": [],
   "source": [
    "x=[1,2,3,4,5]\n",
    "y=[6,7,8,9,10]\n",
    "\n",
    "output_file('Line.html')\n",
    "f=figure()\n",
    "\n",
    "f.line(x,y)\n",
    "show(f)"
   ]
  },
  {
   "cell_type": "markdown",
   "id": "a7c8182c",
   "metadata": {},
   "source": [
    "#### Triangle"
   ]
  },
  {
   "cell_type": "code",
   "execution_count": 3,
   "id": "60121fd3",
   "metadata": {},
   "outputs": [],
   "source": [
    "x=[3,7.5,10]\n",
    "y=[3,6,9]\n",
    " \n",
    "output_file(\"Triangle.html\")\n",
    "f=figure()\n",
    " \n",
    "f.triangle(x,y)\n",
    "show(f)"
   ]
  },
  {
   "cell_type": "code",
   "execution_count": null,
   "id": "10c6cf43",
   "metadata": {},
   "outputs": [],
   "source": []
  }
 ],
 "metadata": {
  "kernelspec": {
   "display_name": "Python 3 (ipykernel)",
   "language": "python",
   "name": "python3"
  },
  "language_info": {
   "codemirror_mode": {
    "name": "ipython",
    "version": 3
   },
   "file_extension": ".py",
   "mimetype": "text/x-python",
   "name": "python",
   "nbconvert_exporter": "python",
   "pygments_lexer": "ipython3",
   "version": "3.10.2"
  }
 },
 "nbformat": 4,
 "nbformat_minor": 5
}
