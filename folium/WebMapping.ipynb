{
 "cells": [
  {
   "cell_type": "code",
   "execution_count": 1,
   "id": "b20955e0",
   "metadata": {},
   "outputs": [],
   "source": [
    "import folium"
   ]
  },
  {
   "cell_type": "code",
   "execution_count": 4,
   "id": "f5e72358",
   "metadata": {},
   "outputs": [],
   "source": [
    "map=folium.Map(location=[38.58, -99.09], zoom_start=6, tiles='Stamen Terrain')\n",
    "map.add_child(folium.Marker(location=[38.2, -99.1], popup='Hi, I am a marker', icon=folium.Icon(color='green')))\n",
    "map.save('Map1.html')"
   ]
  },
  {
   "cell_type": "markdown",
   "id": "4368c2ab",
   "metadata": {},
   "source": [
    "Quando necessário pode ser usado dir(folium) ou help(folium.Marker) para entender melhor o que cada coisa faz"
   ]
  },
  {
   "cell_type": "markdown",
   "id": "a2ca56e7",
   "metadata": {},
   "source": [
    "#### Recomendado:"
   ]
  },
  {
   "cell_type": "code",
   "execution_count": 6,
   "id": "1f871c2b",
   "metadata": {},
   "outputs": [],
   "source": [
    "map=folium.Map(location=[38, -99], zoom_start=6, tiles='Stamen Terrain')\n",
    "\n",
    "fg = folium.FeatureGroup(name='My Map')\n",
    "fg.add_child(folium.Marker(location=[38, -99], popup='Hi, I am a marker2', icon=folium.Icon(color='green')))\n",
    "map.add_child(fg)\n",
    "\n",
    "map.save('Map2.html')"
   ]
  },
  {
   "cell_type": "code",
   "execution_count": null,
   "id": "2945b164",
   "metadata": {},
   "outputs": [],
   "source": []
  }
 ],
 "metadata": {
  "kernelspec": {
   "display_name": "Python 3 (ipykernel)",
   "language": "python",
   "name": "python3"
  },
  "language_info": {
   "codemirror_mode": {
    "name": "ipython",
    "version": 3
   },
   "file_extension": ".py",
   "mimetype": "text/x-python",
   "name": "python",
   "nbconvert_exporter": "python",
   "pygments_lexer": "ipython3",
   "version": "3.10.2"
  }
 },
 "nbformat": 4,
 "nbformat_minor": 5
}
