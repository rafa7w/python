{
 "cells": [
  {
   "cell_type": "code",
   "execution_count": 6,
   "id": "8aab4edf",
   "metadata": {},
   "outputs": [],
   "source": [
    "import folium"
   ]
  },
  {
   "cell_type": "code",
   "execution_count": 7,
   "id": "54ba0017",
   "metadata": {},
   "outputs": [],
   "source": [
    "map=folium.Map(location=[38.58, -99.09], zoom_start=6, tiles='Stamen Terrain')\n",
    "map.add_child(folium.Marker(location=[38.2, -99.1], popup='Hi, I am a marker', icon=folium.Icon(color='green')))\n",
    "map.save('Map1.html')"
   ]
  },
  {
   "cell_type": "markdown",
   "id": "7616a955",
   "metadata": {},
   "source": [
    "When needed, dir(folium) or help(folium.Marker) can be used to better understand what each thing does"
   ]
  },
  {
   "cell_type": "markdown",
   "id": "0443558b",
   "metadata": {},
   "source": [
    "#### Recommended:"
   ]
  },
  {
   "cell_type": "code",
   "execution_count": 8,
   "id": "3324e77d",
   "metadata": {},
   "outputs": [],
   "source": [
    "map=folium.Map(location=[38, -99], zoom_start=6, tiles='Stamen Terrain')\n",
    "\n",
    "fg = folium.FeatureGroup(name='My Map')\n",
    "fg.add_child(folium.Marker(location=[38, -99], popup='Hi, I am a marker2', icon=folium.Icon(color='green')))\n",
    "map.add_child(fg)\n",
    "\n",
    "map.save('Map2.html')"
   ]
  },
  {
   "cell_type": "markdown",
   "id": "f5c62ee7",
   "metadata": {},
   "source": [
    "#### Multiple markers"
   ]
  },
  {
   "cell_type": "markdown",
   "id": "2e410d81",
   "metadata": {},
   "source": [
    "```Python\n",
    "for coordinates in [[38.2, -99.1], [39.2, -97.1]]:\n",
    "    fg.add_child(folium.Marker(location=coordinates, popup='Hi, I am a marker2', icon=folium.Icon(color='green')))\n",
    "```"
   ]
  },
  {
   "cell_type": "markdown",
   "id": "a38993c4",
   "metadata": {},
   "source": [
    "#### Adding markers from files"
   ]
  },
  {
   "cell_type": "code",
   "execution_count": 3,
   "id": "28285c09",
   "metadata": {},
   "outputs": [],
   "source": [
    "import pandas"
   ]
  },
  {
   "cell_type": "code",
   "execution_count": 4,
   "id": "def55651",
   "metadata": {},
   "outputs": [
    {
     "data": {
      "text/html": [
       "<div>\n",
       "<style scoped>\n",
       "    .dataframe tbody tr th:only-of-type {\n",
       "        vertical-align: middle;\n",
       "    }\n",
       "\n",
       "    .dataframe tbody tr th {\n",
       "        vertical-align: top;\n",
       "    }\n",
       "\n",
       "    .dataframe thead th {\n",
       "        text-align: right;\n",
       "    }\n",
       "</style>\n",
       "<table border=\"1\" class=\"dataframe\">\n",
       "  <thead>\n",
       "    <tr style=\"text-align: right;\">\n",
       "      <th></th>\n",
       "      <th>VOLCANX020</th>\n",
       "      <th>NUMBER</th>\n",
       "      <th>NAME</th>\n",
       "      <th>LOCATION</th>\n",
       "      <th>STATUS</th>\n",
       "      <th>ELEV</th>\n",
       "      <th>TYPE</th>\n",
       "      <th>TIMEFRAME</th>\n",
       "      <th>LAT</th>\n",
       "      <th>LON</th>\n",
       "    </tr>\n",
       "  </thead>\n",
       "  <tbody>\n",
       "    <tr>\n",
       "      <th>0</th>\n",
       "      <td>509.0</td>\n",
       "      <td>1201-01=</td>\n",
       "      <td>Baker</td>\n",
       "      <td>US-Washington</td>\n",
       "      <td>Historical</td>\n",
       "      <td>3285.0</td>\n",
       "      <td>Stratovolcanoes</td>\n",
       "      <td>D3</td>\n",
       "      <td>48.776798</td>\n",
       "      <td>-121.810997</td>\n",
       "    </tr>\n",
       "    <tr>\n",
       "      <th>1</th>\n",
       "      <td>511.0</td>\n",
       "      <td>1201-02-</td>\n",
       "      <td>Glacier Peak</td>\n",
       "      <td>US-Washington</td>\n",
       "      <td>Tephrochronology</td>\n",
       "      <td>3213.0</td>\n",
       "      <td>Stratovolcano</td>\n",
       "      <td>D4</td>\n",
       "      <td>48.111801</td>\n",
       "      <td>-121.111000</td>\n",
       "    </tr>\n",
       "    <tr>\n",
       "      <th>2</th>\n",
       "      <td>513.0</td>\n",
       "      <td>1201-03-</td>\n",
       "      <td>Rainier</td>\n",
       "      <td>US-Washington</td>\n",
       "      <td>Dendrochronology</td>\n",
       "      <td>4392.0</td>\n",
       "      <td>Stratovolcano</td>\n",
       "      <td>D3</td>\n",
       "      <td>46.869801</td>\n",
       "      <td>-121.751000</td>\n",
       "    </tr>\n",
       "    <tr>\n",
       "      <th>3</th>\n",
       "      <td>515.0</td>\n",
       "      <td>1201-05-</td>\n",
       "      <td>St. Helens</td>\n",
       "      <td>US-Washington</td>\n",
       "      <td>Historical</td>\n",
       "      <td>2549.0</td>\n",
       "      <td>Stratovolcano</td>\n",
       "      <td>D1</td>\n",
       "      <td>46.199799</td>\n",
       "      <td>-122.181000</td>\n",
       "    </tr>\n",
       "    <tr>\n",
       "      <th>4</th>\n",
       "      <td>516.0</td>\n",
       "      <td>1201-04-</td>\n",
       "      <td>Adams</td>\n",
       "      <td>US-Washington</td>\n",
       "      <td>Tephrochronology</td>\n",
       "      <td>3742.0</td>\n",
       "      <td>Stratovolcano</td>\n",
       "      <td>D6</td>\n",
       "      <td>46.205799</td>\n",
       "      <td>-121.490997</td>\n",
       "    </tr>\n",
       "    <tr>\n",
       "      <th>...</th>\n",
       "      <td>...</td>\n",
       "      <td>...</td>\n",
       "      <td>...</td>\n",
       "      <td>...</td>\n",
       "      <td>...</td>\n",
       "      <td>...</td>\n",
       "      <td>...</td>\n",
       "      <td>...</td>\n",
       "      <td>...</td>\n",
       "      <td>...</td>\n",
       "    </tr>\n",
       "    <tr>\n",
       "      <th>57</th>\n",
       "      <td>580.0</td>\n",
       "      <td>1210-03-</td>\n",
       "      <td>Valles Caldera</td>\n",
       "      <td>US-New Mexico</td>\n",
       "      <td>Pleistocene-Fumarolic</td>\n",
       "      <td>3430.0</td>\n",
       "      <td>Caldera</td>\n",
       "      <td>Q</td>\n",
       "      <td>35.869999</td>\n",
       "      <td>-106.570999</td>\n",
       "    </tr>\n",
       "    <tr>\n",
       "      <th>58</th>\n",
       "      <td>581.0</td>\n",
       "      <td>1209-02-</td>\n",
       "      <td>Sunset Crater</td>\n",
       "      <td>US-Arizona</td>\n",
       "      <td>Dendrochronology</td>\n",
       "      <td>2447.0</td>\n",
       "      <td>Cinder cone</td>\n",
       "      <td>D6</td>\n",
       "      <td>35.369999</td>\n",
       "      <td>-111.501000</td>\n",
       "    </tr>\n",
       "    <tr>\n",
       "      <th>59</th>\n",
       "      <td>584.0</td>\n",
       "      <td>1203-20-</td>\n",
       "      <td>Amboy</td>\n",
       "      <td>US-California</td>\n",
       "      <td>Holocene</td>\n",
       "      <td>288.0</td>\n",
       "      <td>Cinder cone</td>\n",
       "      <td>U</td>\n",
       "      <td>34.549999</td>\n",
       "      <td>-115.780998</td>\n",
       "    </tr>\n",
       "    <tr>\n",
       "      <th>60</th>\n",
       "      <td>586.0</td>\n",
       "      <td>1210-02-</td>\n",
       "      <td>Zuni-Bandera</td>\n",
       "      <td>US-New Mexico</td>\n",
       "      <td>Anthropology</td>\n",
       "      <td>2550.0</td>\n",
       "      <td>Volcanic field</td>\n",
       "      <td>D7</td>\n",
       "      <td>34.799999</td>\n",
       "      <td>-108.001000</td>\n",
       "    </tr>\n",
       "    <tr>\n",
       "      <th>61</th>\n",
       "      <td>588.0</td>\n",
       "      <td>1210-01-</td>\n",
       "      <td>Carrizozo</td>\n",
       "      <td>US-New Mexico</td>\n",
       "      <td>Holocene</td>\n",
       "      <td>1731.0</td>\n",
       "      <td>Cinder cone</td>\n",
       "      <td>U</td>\n",
       "      <td>33.780102</td>\n",
       "      <td>-105.931000</td>\n",
       "    </tr>\n",
       "  </tbody>\n",
       "</table>\n",
       "<p>62 rows × 10 columns</p>\n",
       "</div>"
      ],
      "text/plain": [
       "    VOLCANX020    NUMBER            NAME       LOCATION  \\\n",
       "0        509.0  1201-01=           Baker  US-Washington   \n",
       "1        511.0  1201-02-    Glacier Peak  US-Washington   \n",
       "2        513.0  1201-03-         Rainier  US-Washington   \n",
       "3        515.0  1201-05-      St. Helens  US-Washington   \n",
       "4        516.0  1201-04-           Adams  US-Washington   \n",
       "..         ...       ...             ...            ...   \n",
       "57       580.0  1210-03-  Valles Caldera  US-New Mexico   \n",
       "58       581.0  1209-02-   Sunset Crater     US-Arizona   \n",
       "59       584.0  1203-20-           Amboy  US-California   \n",
       "60       586.0  1210-02-    Zuni-Bandera  US-New Mexico   \n",
       "61       588.0  1210-01-       Carrizozo  US-New Mexico   \n",
       "\n",
       "                   STATUS    ELEV             TYPE TIMEFRAME        LAT  \\\n",
       "0              Historical  3285.0  Stratovolcanoes        D3  48.776798   \n",
       "1        Tephrochronology  3213.0    Stratovolcano        D4  48.111801   \n",
       "2        Dendrochronology  4392.0    Stratovolcano        D3  46.869801   \n",
       "3              Historical  2549.0    Stratovolcano        D1  46.199799   \n",
       "4        Tephrochronology  3742.0    Stratovolcano        D6  46.205799   \n",
       "..                    ...     ...              ...       ...        ...   \n",
       "57  Pleistocene-Fumarolic  3430.0          Caldera         Q  35.869999   \n",
       "58       Dendrochronology  2447.0      Cinder cone        D6  35.369999   \n",
       "59               Holocene   288.0      Cinder cone         U  34.549999   \n",
       "60           Anthropology  2550.0   Volcanic field        D7  34.799999   \n",
       "61               Holocene  1731.0      Cinder cone         U  33.780102   \n",
       "\n",
       "           LON  \n",
       "0  -121.810997  \n",
       "1  -121.111000  \n",
       "2  -121.751000  \n",
       "3  -122.181000  \n",
       "4  -121.490997  \n",
       "..         ...  \n",
       "57 -106.570999  \n",
       "58 -111.501000  \n",
       "59 -115.780998  \n",
       "60 -108.001000  \n",
       "61 -105.931000  \n",
       "\n",
       "[62 rows x 10 columns]"
      ]
     },
     "execution_count": 4,
     "metadata": {},
     "output_type": "execute_result"
    }
   ],
   "source": [
    "data = pandas.read_csv('Volcanoes.txt')\n",
    "data"
   ]
  },
  {
   "cell_type": "code",
   "execution_count": 23,
   "id": "b5a91351",
   "metadata": {},
   "outputs": [
    {
     "data": {
      "text/plain": [
       "Index(['VOLCANX020', 'NUMBER', 'NAME', 'LOCATION', 'STATUS', 'ELEV', 'TYPE',\n",
       "       'TIMEFRAME', 'LAT', 'LON'],\n",
       "      dtype='object')"
      ]
     },
     "execution_count": 23,
     "metadata": {},
     "output_type": "execute_result"
    }
   ],
   "source": [
    "data.columns"
   ]
  },
  {
   "cell_type": "code",
   "execution_count": 28,
   "id": "a23f7d88",
   "metadata": {},
   "outputs": [],
   "source": [
    "lat = list(data['LAT'])\n",
    "lon = list(data['LON'])\n",
    "name = list(data['NAME'])"
   ]
  },
  {
   "cell_type": "markdown",
   "id": "b49c9764",
   "metadata": {},
   "source": [
    "```Python\n",
    "for i, j in zip([1,2,3], [4,5,6]):\n",
    "    print(i, 'and', j)\n",
    "    \n",
    "'1 and 4'\n",
    "'2 and 5'\n",
    "'3 and 6'\n",
    "```"
   ]
  },
  {
   "cell_type": "code",
   "execution_count": 29,
   "id": "d18573a2",
   "metadata": {},
   "outputs": [],
   "source": [
    "for lt, ln, name in zip(lat, lon, name):\n",
    "    fg.add_child(folium.Marker(location=[lt, ln], popup=name, icon=folium.Icon(color='green')))    \n",
    "    \n",
    "map.add_child(fg)\n",
    "\n",
    "map.save('Map3.html')"
   ]
  },
  {
   "cell_type": "markdown",
   "id": "c53d9445",
   "metadata": {},
   "source": [
    "#### Creating a color generation function for markers"
   ]
  },
  {
   "cell_type": "code",
   "execution_count": 9,
   "id": "34eb899b",
   "metadata": {},
   "outputs": [],
   "source": [
    "lat = list(data['LAT'])\n",
    "lon = list(data['LON'])\n",
    "name = list(data['NAME'])\n",
    "elev = list(data['ELEV'])\n",
    "\n",
    "def color_producer(elevation):\n",
    "    if elevation < 1000:\n",
    "        return 'green'\n",
    "    elif 1000 <= elevation < 3000:\n",
    "        return 'orange'\n",
    "    else:\n",
    "        return 'red'        \n",
    "    \n",
    "for lt, ln, name, el in zip(lat, lon, name, elev):\n",
    "    fg.add_child(folium.Marker(location=[lt, ln], popup=name, icon=folium.Icon(color=color_producer(el))))    \n",
    "    \n",
    "map.add_child(fg)\n",
    "\n",
    "map.save('Map4.html')"
   ]
  },
  {
   "cell_type": "markdown",
   "id": "a2199c6c",
   "metadata": {},
   "source": [
    "#### Circle marker"
   ]
  },
  {
   "cell_type": "markdown",
   "id": "c29bcdca",
   "metadata": {},
   "source": [
    "```Python\n",
    "for lt, ln, name, el in zip(lat, lon, name, elev):\n",
    "    fg.add_child(folium.CircleMarker(location=[lt, ln], popup=name, radius=6,\n",
    "    fill_color=color_producer(el), color='grey', fill_opacity=0.7))\n",
    "```"
   ]
  },
  {
   "cell_type": "markdown",
   "id": "7fe2269e",
   "metadata": {},
   "source": [
    "#### Adding a population map layer from the data"
   ]
  },
  {
   "cell_type": "code",
   "execution_count": 11,
   "id": "bda456e2",
   "metadata": {},
   "outputs": [],
   "source": [
    "fg.add_child(folium.GeoJson(data=(open('world.json', 'r', encoding='utf-8-sig').read())))\n",
    "\n",
    "map.add_child(fg)\n",
    "\n",
    "map.save('Map5.html')"
   ]
  },
  {
   "cell_type": "markdown",
   "id": "1df2970d",
   "metadata": {},
   "source": [
    "#### Stylizing the population layer"
   ]
  },
  {
   "cell_type": "code",
   "execution_count": 22,
   "id": "88476ac8",
   "metadata": {},
   "outputs": [],
   "source": [
    "fg.add_child(folium.GeoJson(data=open('world.json', 'r', encoding='utf-8-sig').read(), \n",
    "                                  style_function=lambda x: {'fillColor':'black' if x['properties']['POP2005'] < 50000000 else\n",
    "                                             'orange' if 50000000 <= x['properties']['POP2005'] < 100000000 else 'red'}))\n",
    "\n",
    "map.add_child(fg)\n",
    "\n",
    "map.save('Map6.html')"
   ]
  },
  {
   "cell_type": "markdown",
   "id": "5091eedb",
   "metadata": {},
   "source": [
    "#### Adding a layer control panel"
   ]
  },
  {
   "cell_type": "code",
   "execution_count": 28,
   "id": "581b35d0",
   "metadata": {},
   "outputs": [],
   "source": [
    "map=folium.Map(location=[38, -99], zoom_start=6, tiles='Stamen Terrain')\n",
    "\n",
    "data = pandas.read_csv('Volcanoes.txt')\n",
    "\n",
    "lat = list(data['LAT'])\n",
    "lon = list(data['LON'])\n",
    "name = list(data['NAME'])\n",
    "elev = list(data['ELEV'])\n",
    "\n",
    "def color_producer(elevation):\n",
    "    if elevation < 1000:\n",
    "        return 'green'\n",
    "    elif 1000 <= elevation < 3000:\n",
    "        return 'orange'\n",
    "    else:\n",
    "        return 'red'   \n",
    "\n",
    "fgv=folium.FeatureGroup(name='Volcanoes')\n",
    "\n",
    "for lt, ln, name, el in zip(lat, lon, name, elev):\n",
    "    fgv.add_child(folium.Marker(location=[lt, ln], popup=name, icon=folium.Icon(color=color_producer(el))))  \n",
    "    \n",
    "fgp=folium.FeatureGroup(name='Population')\n",
    "    \n",
    "fgp.add_child(folium.GeoJson(data=open('world.json', 'r', encoding='utf-8-sig').read(), \n",
    "                                  style_function=lambda x: {'fillColor':'blue' if x['properties']['POP2005'] < 50000000 else\n",
    "                                             'orange' if 50000000 <= x['properties']['POP2005'] < 100000000 else 'red'}))\n",
    "\n",
    "map.add_child(fgv)\n",
    "map.add_child(fgp)\n",
    "map.add_child(folium.LayerControl())\n",
    "map.save('Map7.html')"
   ]
  }
 ],
 "metadata": {
  "kernelspec": {
   "display_name": "Python 3 (ipykernel)",
   "language": "python",
   "name": "python3"
  },
  "language_info": {
   "codemirror_mode": {
    "name": "ipython",
    "version": 3
   },
   "file_extension": ".py",
   "mimetype": "text/x-python",
   "name": "python",
   "nbconvert_exporter": "python",
   "pygments_lexer": "ipython3",
   "version": "3.10.2"
  }
 },
 "nbformat": 4,
 "nbformat_minor": 5
}
