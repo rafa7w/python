{
 "cells": [
  {
   "cell_type": "code",
   "execution_count": 1,
   "id": "0cb9349b",
   "metadata": {},
   "outputs": [],
   "source": [
    "import folium"
   ]
  },
  {
   "cell_type": "code",
   "execution_count": 4,
   "id": "ffa1f309",
   "metadata": {},
   "outputs": [],
   "source": [
    "map=folium.Map(location=[38.58, -99.09], zoom_start=6, tiles='Stamen Terrain')\n",
    "map.add_child(folium.Marker(location=[38.2, -99.1], popup='Hi, I am a marker', icon=folium.Icon(color='green')))\n",
    "map.save('Map1.html')"
   ]
  },
  {
   "cell_type": "markdown",
   "id": "39a0869f",
   "metadata": {},
   "source": [
    "When needed, dir(folium) or help(folium.Marker) can be used to better understand what each thing does"
   ]
  },
  {
   "cell_type": "markdown",
   "id": "6aeb214a",
   "metadata": {},
   "source": [
    "#### Recommended:"
   ]
  },
  {
   "cell_type": "code",
   "execution_count": 6,
   "id": "6fdf0d8e",
   "metadata": {},
   "outputs": [],
   "source": [
    "map=folium.Map(location=[38, -99], zoom_start=6, tiles='Stamen Terrain')\n",
    "\n",
    "fg = folium.FeatureGroup(name='My Map')\n",
    "fg.add_child(folium.Marker(location=[38, -99], popup='Hi, I am a marker2', icon=folium.Icon(color='green')))\n",
    "map.add_child(fg)\n",
    "\n",
    "map.save('Map2.html')"
   ]
  },
  {
   "cell_type": "markdown",
   "id": "38f52e7c",
   "metadata": {},
   "source": [
    "#### Multiple markers"
   ]
  },
  {
   "cell_type": "markdown",
   "id": "b564d046",
   "metadata": {},
   "source": [
    "```Python\n",
    "for coordinates in [[38.2, -99.1], [39.2, -97.1]]:\n",
    "    fg.add_child(folium.Marker(location=coordinates, popup='Hi, I am a marker2', icon=folium.Icon(color='green')))\n",
    "```"
   ]
  },
  {
   "cell_type": "code",
   "execution_count": null,
   "id": "df9dd922",
   "metadata": {},
   "outputs": [],
   "source": []
  }
 ],
 "metadata": {
  "kernelspec": {
   "display_name": "Python 3 (ipykernel)",
   "language": "python",
   "name": "python3"
  },
  "language_info": {
   "codemirror_mode": {
    "name": "ipython",
    "version": 3
   },
   "file_extension": ".py",
   "mimetype": "text/x-python",
   "name": "python",
   "nbconvert_exporter": "python",
   "pygments_lexer": "ipython3",
   "version": "3.10.2"
  }
 },
 "nbformat": 4,
 "nbformat_minor": 5
}
